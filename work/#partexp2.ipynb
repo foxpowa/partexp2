{
 "cells": [
  {
   "cell_type": "code",
   "execution_count": 2,
   "metadata": {},
   "outputs": [
    {
     "data": {
      "image/png": "[encoded data removed]",
      "text/plain": [
       "<Figure size 432x288 with 1 Axes>"
      ]
     },
     "metadata": {
      "needs_background": "light"
     },
     "output_type": "display_data"
    }
   ],
   "source": [
    "# Generate raw data ;)\n",
    "import random\n",
    "import matplotlib.pyplot as plt\n",
    "\n",
    "def affine(x, a = 4, b = 10):\n",
    "    return (a * x) + b\n",
    "\n",
    "\n",
    "def noise(x):\n",
    "    signe = random.random()\n",
    "    if signe < 0.5:\n",
    "        signe = -1\n",
    "    else:\n",
    "        signe = 1\n",
    "        \n",
    "    proportion = 5\n",
    "    if x < 200:\n",
    "        proportion = 1\n",
    "    \n",
    "    return x + ((x / proportion) * signe * random.random())\n",
    "\n",
    "\n",
    "def random_x(start, stop, nb_point):\n",
    "\n",
    "    x_points = []\n",
    "    for i in range(0, nb_point):\n",
    "        x_points.append(int((random.random() * (stop - start) + start)))\n",
    "\n",
    "    return sorted(x_points)\n",
    "\n",
    "\n",
    "\n",
    "x_values = random_x(30, 300, 100)\n",
    "y_values = list(map(lambda x: noise(affine(x)), x_values))\n",
    "\n",
    "plt.ylabel('Prix (k€)')\n",
    "plt.xlabel('Surface (m²)')\n",
    "plt.title('Données brutes')\n",
    "plt.plot(x_values, y_values, '+')\n",
    "plt.show()\n",
    "\n",
    "\n"
   ]
  },
  {
   "cell_type": "code",
   "execution_count": 3,
   "metadata": {},
   "outputs": [
    {
     "data": {
      "text/html": [
       "<div>\n",
       "<style scoped>\n",
       "    .dataframe tbody tr th:only-of-type {\n",
       "        vertical-align: middle;\n",
       "    }\n",
       "\n",
       "    .dataframe tbody tr th {\n",
       "        vertical-align: top;\n",
       "    }\n",
       "\n",
       "    .dataframe thead th {\n",
       "        text-align: right;\n",
       "    }\n",
       "</style>\n",
       "<table border=\"1\" class=\"dataframe\">\n",
       "  <thead>\n",
       "    <tr style=\"text-align: right;\">\n",
       "      <th></th>\n",
       "      <th>surface (m²)</th>\n",
       "    </tr>\n",
       "  </thead>\n",
       "  <tbody>\n",
       "    <tr>\n",
       "      <th>0</th>\n",
       "      <td>33</td>\n",
       "    </tr>\n",
       "    <tr>\n",
       "      <th>1</th>\n",
       "      <td>39</td>\n",
       "    </tr>\n",
       "    <tr>\n",
       "      <th>2</th>\n",
       "      <td>40</td>\n",
       "    </tr>\n",
       "    <tr>\n",
       "      <th>3</th>\n",
       "      <td>40</td>\n",
       "    </tr>\n",
       "    <tr>\n",
       "      <th>4</th>\n",
       "      <td>42</td>\n",
       "    </tr>\n",
       "  </tbody>\n",
       "</table>\n",
       "</div>"
      ],
      "text/plain": [
       "   surface (m²)\n",
       "0            33\n",
       "1            39\n",
       "2            40\n",
       "3            40\n",
       "4            42"
      ]
     },
     "execution_count": 3,
     "metadata": {},
     "output_type": "execute_result"
    }
   ],
   "source": [
    "# RAW data\n",
    "import pandas as pd\n",
    "\n",
    "x_values_pd = pd.DataFrame({'surface (m²)': x_values})\n",
    "x_values_pd.head()"
   ]
  },
  {
   "cell_type": "code",
   "execution_count": 4,
   "metadata": {},
   "outputs": [
    {
     "data": {
      "text/html": [
       "<div>\n",
       "<style scoped>\n",
       "    .dataframe tbody tr th:only-of-type {\n",
       "        vertical-align: middle;\n",
       "    }\n",
       "\n",
       "    .dataframe tbody tr th {\n",
       "        vertical-align: top;\n",
       "    }\n",
       "\n",
       "    .dataframe thead th {\n",
       "        text-align: right;\n",
       "    }\n",
       "</style>\n",
       "<table border=\"1\" class=\"dataframe\">\n",
       "  <thead>\n",
       "    <tr style=\"text-align: right;\">\n",
       "      <th></th>\n",
       "      <th>prix (k€)</th>\n",
       "    </tr>\n",
       "  </thead>\n",
       "  <tbody>\n",
       "    <tr>\n",
       "      <th>0</th>\n",
       "      <td>283.246264</td>\n",
       "    </tr>\n",
       "    <tr>\n",
       "      <th>1</th>\n",
       "      <td>186.753035</td>\n",
       "    </tr>\n",
       "    <tr>\n",
       "      <th>2</th>\n",
       "      <td>92.307643</td>\n",
       "    </tr>\n",
       "    <tr>\n",
       "      <th>3</th>\n",
       "      <td>78.350345</td>\n",
       "    </tr>\n",
       "    <tr>\n",
       "      <th>4</th>\n",
       "      <td>59.054104</td>\n",
       "    </tr>\n",
       "  </tbody>\n",
       "</table>\n",
       "</div>"
      ],
      "text/plain": [
       "    prix (k€)\n",
       "0  283.246264\n",
       "1  186.753035\n",
       "2   92.307643\n",
       "3   78.350345\n",
       "4   59.054104"
      ]
     },
     "execution_count": 4,
     "metadata": {},
     "output_type": "execute_result"
    }
   ],
   "source": [
    "y_values_pd = pd.DataFrame({'prix (k€)': y_values})\n",
    "y_values_pd.head()"
   ]
  },
  {
   "cell_type": "code",
   "execution_count": 5,
   "metadata": {},
   "outputs": [],
   "source": [
    "from sklearn.model_selection import train_test_split\n",
    "from sklearn.linear_model import LinearRegression\n",
    "import numpy as np\n",
    "import itertools\n",
    "from sklearn.metrics import mean_squared_error"
   ]
  },
  {
   "cell_type": "code",
   "execution_count": 6,
   "metadata": {},
   "outputs": [],
   "source": [
    "mse = []\n",
    "coefs = []\n",
    "intercepts = []\n",
    "# # Split dataset into learning/test sets\n",
    "# for random_split in [4]:\n",
    "\n",
    "X_train, X_test, y_train, y_test = train_test_split(x_values, y_values, test_size=0.33, random_state=42)\n",
    "X_train = list(map(lambda x: [x], X_train))\n",
    "X_test = list(map(lambda x: [x], X_test))\n",
    "\n",
    "\n",
    "# Train model\n",
    "reg = LinearRegression()\n",
    "reg.fit(X_train,y_train)\n",
    "y_pred = reg.predict(X_test)\n",
    "coefs.append(reg.coef_)\n",
    "intercepts.append(reg.intercept_)\n",
    "mse.append(mean_squared_error(y_test, y_pred))"
   ]
  },
  {
   "cell_type": "code",
   "execution_count": 7,
   "metadata": {},
   "outputs": [
    {
     "name": "stdout",
     "output_type": "stream",
     "text": [
      "3.99407895615\n",
      "12.0626607268\n"
     ]
    }
   ],
   "source": [
    "# a and b for abline function\n",
    "print(np.mean(coefs))\n",
    "print(np.mean(intercepts))\n",
    "\n",
    "# generate a straight line according to \n",
    "x_values_model = random_x(30, 300, 100)\n",
    "y_values_model = list(map(lambda x: affine(x,np.mean(coefs),np.mean(intercepts) ), x_values_model))"
   ]
  },
  {
   "cell_type": "code",
   "execution_count": 9,
   "metadata": {},
   "outputs": [
    {
     "data": {
      "image/png": "[encoded data removed]",
      "text/plain": [
       "<Figure size 432x288 with 1 Axes>"
      ]
     },
     "metadata": {
      "needs_background": "light"
     },
     "output_type": "display_data"
    }
   ],
   "source": [
    "# generate 'false' intermediate coef and intercept values\n",
    "a = [-10,-2,0,2,3.5]\n",
    "b = [-10,0,0,5,6]\n",
    "computed_mse = []\n",
    "\n",
    "affine_y_values = list(map(lambda x: affine(x,4,10), x_values_model))\n",
    "\n",
    "for i in range(0,len(a)):\n",
    "    tmp_y_values = list(map(lambda x: affine(x,a[i],b[i]), x_values_model))\n",
    "    plt.plot(x_values_model, tmp_y_values, label=\"Iteration, coef a: {}\".format(a[i]))\n",
    "    computed_mse.append(mean_squared_error(affine_y_values, tmp_y_values))\n",
    "    \n",
    "# plot raw data + model\n",
    "plt.ylabel('Prix (k€)')\n",
    "plt.xlabel('Surface (m²)')\n",
    "plt.title('Données brutes + modèle + modèles intermédiaires')\n",
    "plt.plot(x_values, y_values, '+')\n",
    "plt.plot(x_values_model, y_values_model, label=\"Model\")\n",
    "plt.legend(loc='best')\n",
    "plt.show()"
   ]
  },
  {
   "cell_type": "code",
   "execution_count": 10,
   "metadata": {},
   "outputs": [
    {
     "data": {
      "text/plain": [
       "Text(0.5,0,'iteration')"
      ]
     },
     "execution_count": 10,
     "metadata": {},
     "output_type": "execute_result"
    },
    {
     "data": {
      "image/png": "[encoded data removed]",
      "text/plain": [
       "<Figure size 432x288 with 1 Axes>"
      ]
     },
     "metadata": {
      "needs_background": "light"
     },
     "output_type": "display_data"
    }
   ],
   "source": [
    "# Evolution de la metrique\n",
    "plt.plot(computed_mse)\n",
    "plt.ylabel('Cost')\n",
    "plt.xlabel('iteration')"
   ]
  }
 ],
 "metadata": {
  "kernelspec": {
   "display_name": "Python 3",
   "language": "python",
   "name": "python3"
  },
  "language_info": {
   "codemirror_mode": {
    "name": "ipython",
    "version": 3
   },
   "file_extension": ".py",
   "mimetype": "text/x-python",
   "name": "python",
   "nbconvert_exporter": "python",
   "pygments_lexer": "ipython3",
   "version": "3.6.7"
  }
 },
 "nbformat": 4,
 "nbformat_minor": 2
}
