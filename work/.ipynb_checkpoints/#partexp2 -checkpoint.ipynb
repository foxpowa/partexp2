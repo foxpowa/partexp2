{
 "cells": [
  {
   "cell_type": "code",
   "execution_count": 2,
   "metadata": {},
   "outputs": [
    {
     "data": {
      "image/png": "[encoded data removed]",
      "text/plain": [
       "<Figure size 432x288 with 1 Axes>"
      ]
     },
     "metadata": {
      "needs_background": "light"
     },
     "output_type": "display_data"
    }
   ],
   "source": [
    "# Generate raw data ;)\n",
    "import random\n",
    "import numpy as np\n",
    "import matplotlib.pyplot as plt\n",
    "\n",
    "def affine(x):\n",
    "    a = 4\n",
    "    b = 10\n",
    "    return (a * x) + b\n",
    "\n",
    "\n",
    "def noise(x):\n",
    "    signe = random.random()\n",
    "    if signe < 0.5:\n",
    "        signe = -1\n",
    "    else:\n",
    "        signe = 1\n",
    "        \n",
    "    proportion = 5\n",
    "    if x < 200:\n",
    "        proportion = 1\n",
    "    \n",
    "    return x + ((x / proportion) * signe * random.random())\n",
    "\n",
    "\n",
    "def random_x(start, stop, nb_point):\n",
    "\n",
    "    x_points = []\n",
    "    for i in range(0, nb_point):\n",
    "        x_points.append(int((random.random() * (stop - start) + start)))\n",
    "\n",
    "    return sorted(x_points)\n",
    "\n",
    "\n",
    "\n",
    "\n",
    "x_values = random_x(30, 300, 100)\n",
    "y_values = list(map(lambda x: noise(affine(x)), x_values))\n",
    "\n",
    "plt.ylabel('Prix (k€)')\n",
    "plt.xlabel('Sufrace (m²)')\n",
    "plt.title('Données brutes')\n",
    "plt.plot(x_values, y_values, '+')\n",
    "plt.show()\n",
    "\n",
    "\n"
   ]
  },
  {
   "cell_type": "code",
   "execution_count": 3,
   "metadata": {},
   "outputs": [
    {
     "data": {
      "text/html": [
       "<div>\n",
       "<style scoped>\n",
       "    .dataframe tbody tr th:only-of-type {\n",
       "        vertical-align: middle;\n",
       "    }\n",
       "\n",
       "    .dataframe tbody tr th {\n",
       "        vertical-align: top;\n",
       "    }\n",
       "\n",
       "    .dataframe thead th {\n",
       "        text-align: right;\n",
       "    }\n",
       "</style>\n",
       "<table border=\"1\" class=\"dataframe\">\n",
       "  <thead>\n",
       "    <tr style=\"text-align: right;\">\n",
       "      <th></th>\n",
       "      <th>0</th>\n",
       "    </tr>\n",
       "  </thead>\n",
       "  <tbody>\n",
       "    <tr>\n",
       "      <th>0</th>\n",
       "      <td>30</td>\n",
       "    </tr>\n",
       "    <tr>\n",
       "      <th>1</th>\n",
       "      <td>31</td>\n",
       "    </tr>\n",
       "    <tr>\n",
       "      <th>2</th>\n",
       "      <td>42</td>\n",
       "    </tr>\n",
       "    <tr>\n",
       "      <th>3</th>\n",
       "      <td>44</td>\n",
       "    </tr>\n",
       "    <tr>\n",
       "      <th>4</th>\n",
       "      <td>52</td>\n",
       "    </tr>\n",
       "  </tbody>\n",
       "</table>\n",
       "</div>"
      ],
      "text/plain": [
       "    0\n",
       "0  30\n",
       "1  31\n",
       "2  42\n",
       "3  44\n",
       "4  52"
      ]
     },
     "execution_count": 3,
     "metadata": {},
     "output_type": "execute_result"
    }
   ],
   "source": [
    "# RAW data\n",
    "import pandas as pd\n",
    "\n",
    "x_values_pd = pd.DataFrame(x_values)\n",
    "x_values_pd.head()"
   ]
  }
 ],
 "metadata": {
  "kernelspec": {
   "display_name": "Python 3",
   "language": "python",
   "name": "python3"
  },
  "language_info": {
   "codemirror_mode": {
    "name": "ipython",
    "version": 3
   },
   "file_extension": ".py",
   "mimetype": "text/x-python",
   "name": "python",
   "nbconvert_exporter": "python",
   "pygments_lexer": "ipython3",
   "version": "3.6.7"
  }
 },
 "nbformat": 4,
 "nbformat_minor": 2
}
